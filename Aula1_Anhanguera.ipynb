{
  "nbformat": 4,
  "nbformat_minor": 0,
  "metadata": {
    "colab": {
      "provenance": [],
      "authorship_tag": "ABX9TyMHyF3sD2LcGgnSoUF/7BGb",
      "include_colab_link": true
    },
    "kernelspec": {
      "name": "python3",
      "display_name": "Python 3"
    },
    "language_info": {
      "name": "python"
    }
  },
  "cells": [
    {
      "cell_type": "markdown",
      "metadata": {
        "id": "view-in-github",
        "colab_type": "text"
      },
      "source": [
        "<a href=\"https://colab.research.google.com/github/Schorreck/Schorreck/blob/main/Aula1_Anhanguera.ipynb\" target=\"_parent\"><img src=\"https://colab.research.google.com/assets/colab-badge.svg\" alt=\"Open In Colab\"/></a>"
      ]
    },
    {
      "cell_type": "code",
      "execution_count": 20,
      "metadata": {
        "colab": {
          "base_uri": "https://localhost:8080/"
        },
        "id": "P5EQsuJ5dTfG",
        "outputId": "706ea2df-2073-4001-f158-2df16b33f19e"
      },
      "outputs": [
        {
          "output_type": "stream",
          "name": "stdout",
          "text": [
            "Hello Mundo\n",
            "Digite o nome do Aluno: Marcos Gonçalves\n",
            "Digite a primeira nota:5.6\n",
            "Digite a segunda nota:8.7\n",
            "Digite a terceira nota:6.6\n",
            "Digite a quarta nota:5.8\n",
            "O aluno: Marcos Gonçalves teve uma nota total:26.7\n",
            "Sua média é 6.67\n",
            "O Aluno está Reprovado -_-\n",
            "Fim do Programa\n"
          ]
        },
        {
          "output_type": "execute_result",
          "data": {
            "text/plain": [
              "<IPython.core.autocall.ZMQExitAutocall at 0x7c066bb7c310>"
            ]
          },
          "metadata": {},
          "execution_count": 20
        }
      ],
      "source": [
        "from pickle import STOP\n",
        "print ('Hello Mundo')\n",
        "\n",
        "aluno = input('Digite o nome do Aluno: ')\n",
        "nota1 = float(input('Digite a primeira nota:'))\n",
        "nota2 = float(input('Digite a segunda nota:'))\n",
        "nota3 = float(input('Digite a terceira nota:'))\n",
        "nota4 = float(input('Digite a quarta nota:'))\n",
        "\n",
        "total =  nota1 + nota2 + nota3 + nota4\n",
        "media = total/4\n",
        "\n",
        "print(f'O aluno: {aluno} teve uma nota total:{total}')\n",
        "print(f'Sua média é {media:.2f}')\n",
        "\n",
        "if media >= 7:\n",
        "    print('O Aluno está Aprovado !!!')\n",
        "    print('Parabéns')\n",
        "\n",
        "else:\n",
        "    print('O Aluno está Reprovado -_-')\n",
        "\n",
        "print('Fim do Programa')\n",
        "\n",
        "exit(STOP)"
      ]
    }
  ]
}